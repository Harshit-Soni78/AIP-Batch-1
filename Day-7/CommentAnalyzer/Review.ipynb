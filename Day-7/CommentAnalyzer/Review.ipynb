{
 "cells": [
  {
   "cell_type": "markdown",
   "metadata": {},
   "source": [
    "### Importing the nltk Sentiment Analyzer"
   ]
  },
  {
   "cell_type": "code",
   "execution_count": 1,
   "metadata": {},
   "outputs": [],
   "source": [
    "import matplotlib.pyplot as plt\n",
    "from nltk.sentiment import SentimentIntensityAnalyzer"
   ]
  },
  {
   "cell_type": "code",
   "execution_count": 2,
   "metadata": {},
   "outputs": [],
   "source": [
    "analyzer=SentimentIntensityAnalyzer()"
   ]
  },
  {
   "cell_type": "code",
   "execution_count": 3,
   "metadata": {},
   "outputs": [
    {
     "name": "stdout",
     "output_type": "stream",
     "text": [
      "{'neg': 0.0, 'neu': 0.545, 'pos': 0.455, 'compound': 0.3612}\n"
     ]
    }
   ],
   "source": [
    "text=\"I like what you do\"\n",
    "\n",
    "print(analyzer.polarity_scores(text))"
   ]
  },
  {
   "cell_type": "code",
   "execution_count": 5,
   "metadata": {},
   "outputs": [
    {
     "name": "stdout",
     "output_type": "stream",
     "text": [
      "{'neg': 0.552, 'neu': 0.448, 'pos': 0.0, 'compound': -0.5719}\n",
      "Negative --> 0.552\n",
      "Positive --> 0.0\n",
      "Neutral --> 0.552\n",
      "Compound --> -0.5719\n",
      "\n"
     ]
    }
   ],
   "source": [
    "text=\"I hate what you do\"\n",
    "res=analyzer.polarity_scores(text)\n",
    "print(res)\n",
    "\n",
    "#Accessing each individual reaction\n",
    "print(f\"Negative --> {res['neg']}\\nPositive --> {res['pos']}\\nNeutral --> {res['neg']}\\nCompound --> {res['compound']}\\n\")"
   ]
  },
  {
   "cell_type": "markdown",
   "metadata": {},
   "source": [
    "### THe analyzation\n",
    "- Positive: A compound score >= 0.05 is considered positive.\n",
    "- Neutral: A compound score between -0.05 and 0.05 is considered neutral.\n",
    "- Negative: A compound score <= -0.05 is considered negative."
   ]
  },
  {
   "cell_type": "markdown",
   "metadata": {},
   "source": [
    "---\n",
    "**A function to rate individual comment**"
   ]
  },
  {
   "cell_type": "code",
   "execution_count": null,
   "metadata": {},
   "outputs": [],
   "source": [
    "def get_sentiment_score(score):\n",
    "    if(score>=0.05):\n",
    "        return 1\n",
    "    elif(score<=-0.05):\n",
    "        return 0\n",
    "    else:\n",
    "        return -1"
   ]
  },
  {
   "cell_type": "markdown",
   "metadata": {},
   "source": [
    "### THe Problem with ABove Code, Did you notice?"
   ]
  },
  {
   "cell_type": "code",
   "execution_count": 7,
   "metadata": {},
   "outputs": [
    {
     "name": "stdout",
     "output_type": "stream",
     "text": [
      "Vader says: {'neg': 0.0, 'neu': 0.804, 'pos': 0.196, 'compound': 0.2382}\n",
      "fucntion says: 1\n"
     ]
    }
   ],
   "source": [
    "text3=\"Some good moments, but overall just another average movie.\"\n",
    "result=analyzer.polarity_scores(text3)\n",
    "print(f\"Vader says: {result}\")\n",
    "print(\"fucntion says: \",end=\"\")\n",
    "print(get_sentiment_score(result['compound']))"
   ]
  },
  {
   "cell_type": "markdown",
   "metadata": {},
   "source": [
    "- Even being a neutral statement the compound is greater than 0.05 thus making it positive comment according to our function and reducing program's accuracy.\n",
    "\n",
    "### So Solution?"
   ]
  },
  {
   "cell_type": "code",
   "execution_count": 8,
   "metadata": {},
   "outputs": [],
   "source": [
    "def get_sentiment_score(score, sentiment):\n",
    "    if sentiment['neu'] > 0.7:  # If more than 70% neutral, force neutrality\n",
    "        return 0\n",
    "    elif score >= 0.05:\n",
    "        return 1\n",
    "    elif score <= -0.05:\n",
    "        return -1\n",
    "    else:\n",
    "        return 0"
   ]
  },
  {
   "cell_type": "markdown",
   "metadata": {},
   "source": [
    "---\n",
    "**A function to produce list for all ratings**"
   ]
  },
  {
   "cell_type": "code",
   "execution_count": 9,
   "metadata": {},
   "outputs": [],
   "source": [
    "# reviews is a list of comments\n",
    "\n",
    "def statistics(reviews,details=False):\n",
    "    posCount,negCount,neuCount=0,0,0\n",
    "    responseList=[]    # an empty list\n",
    "    for review in reviews:\n",
    "        result = analyzer.polarity_scores(review)\n",
    "        response = get_sentiment_score(result['compound'],result)\n",
    "        responseList.append(response)\n",
    "        if(details):\n",
    "            print(result)\n",
    "            print(f\"Text: {review}\\nVADER: {response}\\nResult:{response}\\n\\n\")\n",
    "\n",
    "    # Counting the number of positive, negative and neutral responses\n",
    "    for response in responseList:\n",
    "        if response==1:\n",
    "            posCount+=1\n",
    "        elif response==-1:\n",
    "            negCount+=1\n",
    "        else:\n",
    "            neuCount+=1\n",
    "    return posCount,negCount,neuCount"
   ]
  },
  {
   "cell_type": "code",
   "execution_count": 15,
   "metadata": {},
   "outputs": [],
   "source": [
    "def graphical(posCount,negCount,neuCount):\n",
    "    context=[\"Positive\",\"Negative\",\"Neutral\"]\n",
    "    percentage=[posCount,negCount,neuCount]\n",
    "    plt.pie(percentage,labels=context,autopct=\"%.1f%%\")"
   ]
  },
  {
   "cell_type": "code",
   "execution_count": 16,
   "metadata": {},
   "outputs": [],
   "source": [
    "comments = [\n",
    "    \"This app is absolutely amazing! So smooth and easy to use.\",  # Positive 😊\n",
    "    \"I hate the latest update. It ruined everything!\",  # Negative 😡\n",
    "    \"The UI is decent, but nothing special.\",  # Neutral 😐\n",
    "    \"Great features, but some bugs make it frustrating to use.\",  # Mixed (Positive + Negative)\n",
    "    \"It’s okay, but I wouldn’t recommend it over other apps.\",  # Neutral 😐\n",
    "    \"I love how intuitive the design is!\",  # Positive 😊\n",
    "    \"Too many ads! It’s annoying and ruins the experience.\",  # Negative 😡\n",
    "    \"The app works fine, but it lacks innovation.\",  # Neutral 😐\n",
    "    \"This has potential, but it needs serious improvements.\",  # Mixed (Neutral + Negative)\n",
    "    \"Best app I’ve used in a long time! 10/10 would recommend!\",  # Positive 😊\n",
    "]\n",
    "comments2 = [\n",
    "    \"This app is absolutely amazing! So smooth and easy to use.\",  # Positive 😊\n",
    "    \"I hate the latest update. It ruined everything!\",  # Negative 😡\n",
    "    \"The UI is decent, but nothing special.\",  # Neutral 😐\n",
    "    \"Great features, but some bugs make it frustrating to use.\",  # Mixed (Positive + Negative)\n",
    "    \"It’s okay, but I wouldn’t recommend it over other apps.\",  # Neutral 😐\n",
    "    \"I love how intuitive the design is!\",  # Positive 😊\n",
    "    \"Too many ads! It’s annoying and ruins the experience.\",  # Negative 😡\n",
    "    \"The app works fine, but it lacks innovation.\",  # Neutral 😐\n",
    "    \"This has potential, but it needs serious improvements.\",  # Mixed (Neutral + Negative)\n",
    "    \"Best app I’ve used in a long time! 10/10 would recommend!\",  # Positive 😊\n",
    "]\n"
   ]
  },
  {
   "cell_type": "code",
   "execution_count": 23,
   "metadata": {},
   "outputs": [
    {
     "name": "stdout",
     "output_type": "stream",
     "text": [
      "{'neg': 0.0, 'neu': 0.544, 'pos': 0.456, 'compound': 0.82}\n",
      "Text: This app is absolutely amazing! So smooth and easy to use.\n",
      "VADER: 1\n",
      "Result:1\n",
      "\n",
      "\n",
      "{'neg': 0.587, 'neu': 0.413, 'pos': 0.0, 'compound': -0.7959}\n",
      "Text: I hate the latest update. It ruined everything!\n",
      "VADER: -1\n",
      "Result:-1\n",
      "\n",
      "\n",
      "{'neg': 0.325, 'neu': 0.675, 'pos': 0.0, 'compound': -0.438}\n",
      "Text: The UI is decent, but nothing special.\n",
      "VADER: -1\n",
      "Result:-1\n",
      "\n",
      "\n",
      "{'neg': 0.267, 'neu': 0.556, 'pos': 0.177, 'compound': -0.3182}\n",
      "Text: Great features, but some bugs make it frustrating to use.\n",
      "VADER: -1\n",
      "Result:-1\n",
      "\n",
      "\n",
      "{'neg': 0.0, 'neu': 0.598, 'pos': 0.402, 'compound': 0.5719}\n",
      "Text: It’s okay, but I wouldn’t recommend it over other apps.\n",
      "VADER: 1\n",
      "Result:1\n",
      "\n",
      "\n",
      "{'neg': 0.0, 'neu': 0.527, 'pos': 0.473, 'compound': 0.6696}\n",
      "Text: I love how intuitive the design is!\n",
      "VADER: 1\n",
      "Result:1\n",
      "\n",
      "\n",
      "{'neg': 0.457, 'neu': 0.543, 'pos': 0.0, 'compound': -0.7088}\n",
      "Text: Too many ads! It’s annoying and ruins the experience.\n",
      "VADER: -1\n",
      "Result:-1\n",
      "\n",
      "\n",
      "{'neg': 0.0, 'neu': 0.556, 'pos': 0.444, 'compound': 0.5859}\n",
      "Text: The app works fine, but it lacks innovation.\n",
      "VADER: 1\n",
      "Result:1\n",
      "\n",
      "\n",
      "{'neg': 0.139, 'neu': 0.577, 'pos': 0.284, 'compound': 0.3612}\n",
      "Text: This has potential, but it needs serious improvements.\n",
      "VADER: 1\n",
      "Result:1\n",
      "\n",
      "\n",
      "{'neg': 0.0, 'neu': 0.523, 'pos': 0.477, 'compound': 0.8065}\n",
      "Text: Best app I’ve used in a long time! 10/10 would recommend!\n",
      "VADER: 1\n",
      "Result:1\n",
      "\n",
      "\n"
     ]
    }
   ],
   "source": [
    "posCount,negCount,neuCount = statistics(comments,details=True)"
   ]
  },
  {
   "cell_type": "code",
   "execution_count": 24,
   "metadata": {},
   "outputs": [
    {
     "name": "stdout",
     "output_type": "stream",
     "text": [
      "6 4 0\n"
     ]
    }
   ],
   "source": [
    "print(posCount,negCount,neuCount)"
   ]
  },
  {
   "cell_type": "code",
   "execution_count": 25,
   "metadata": {},
   "outputs": [
    {
     "data": {
      "image/png": "[encoded data removed]",
      "text/plain": [
       "<Figure size 640x480 with 1 Axes>"
      ]
     },
     "metadata": {},
     "output_type": "display_data"
    }
   ],
   "source": [
    "graphical(posCount,negCount,neuCount)"
   ]
  },
  {
   "cell_type": "code",
   "execution_count": 29,
   "metadata": {},
   "outputs": [
    {
     "name": "stdout",
     "output_type": "stream",
     "text": [
      "(4, 0, 2)\n"
     ]
    }
   ],
   "source": [
    "comments = [\n",
    "    \"This is amazing work!\",\n",
    "    \"I can see the effort put into this!\",\n",
    "    \"This needs some improvement, but the idea is great!\",\n",
    "    \"It could be better with a few tweaks.\",\n",
    "    \"This is well-structured, but some details are missing.\",\n",
    "    \"well nice try but try hard\"\n",
    "]\n",
    "lis=statistics(comments)\n",
    "print(lis)"
   ]
  },
  {
   "cell_type": "code",
   "execution_count": null,
   "metadata": {},
   "outputs": [],
   "source": []
  }
 ],
 "metadata": {
  "kernelspec": {
   "display_name": "Projects",
   "language": "python",
   "name": "python3"
  },
  "language_info": {
   "codemirror_mode": {
    "name": "ipython",
    "version": 3
   },
   "file_extension": ".py",
   "mimetype": "text/x-python",
   "name": "python",
   "nbconvert_exporter": "python",
   "pygments_lexer": "ipython3",
   "version": "3.12.8"
  }
 },
 "nbformat": 4,
 "nbformat_minor": 2
}
